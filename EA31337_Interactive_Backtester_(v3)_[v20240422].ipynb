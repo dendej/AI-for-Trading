{
  "nbformat": 4,
  "nbformat_minor": 0,
  "metadata": {
    "colab": {
      "provenance": [],
      "private_outputs": true,
      "cell_execution_strategy": "setup",
      "include_colab_link": true
    },
    "kernelspec": {
      "name": "python3",
      "display_name": "Python 3"
    },
    "language_info": {
      "name": "python"
    }
  },
  "cells": [
    {
      "cell_type": "markdown",
      "metadata": {
        "id": "view-in-github",
        "colab_type": "text"
      },
      "source": [
        "<a href=\"https://colab.research.google.com/github/dendej/AI-for-Trading/blob/master/EA31337_Interactive_Backtester_(v3)_%5Bv20240422%5D.ipynb\" target=\"_parent\"><img src=\"https://colab.research.google.com/assets/colab-badge.svg\" alt=\"Open In Colab\"/></a>"
      ]
    },
    {
      "cell_type": "markdown",
      "source": [
        "# EA31337 Interactive Backtester\n",
        "\n",
        "This [Colab](https://colab.research.google.com/notebooks/intro.ipynb) aims at backtesting [EA31337 trading robot](https://github.com/EA31337/EA31337).\n",
        "\n",
        "- To use this notebook interactively, log in using your Google account, then follow steps found below.\n",
        "\n",
        "- The test is split into smaller sections, for each you have to hit the play button (►️) to execute it.\n",
        "\n",
        "- By default the test is executed on a hosted runtime, however it is possible to connect to your local runtime as well.\n",
        "\n",
        "- If you've any issues or suggestions, feel free to leave the comments."
      ],
      "metadata": {
        "id": "PEDs2GToWWpd"
      }
    },
    {
      "cell_type": "code",
      "execution_count": null,
      "metadata": {
        "id": "4QCnrQt8sG_C"
      },
      "outputs": [],
      "source": [
        "# @title 1. Install EA tester. { display-mode: \"form\" }\n",
        "# @markdown ⬅ Hit the play button on the left to install EA tester and dependencies.\n",
        "# @markdown Once completed, please move to the next section.\n",
        "!pip install ansible\n",
        "!ansible-galaxy install --force-with-deps git+https://github.com/EA31337/ansible-role-mt-runner.git,dev\n",
        "!ansible-galaxy role list\n",
        "!echo EA tester has been installed!\n",
        "!echo You can now run the next section."
      ]
    },
    {
      "cell_type": "code",
      "source": [
        "%%shell\n",
        "# @title 2. Run backtest. { display-mode: \"form\" }\n",
        "# @markdown ⬅ Choose configuration below and hit the play button on the left to run the backtest.\n",
        "EA31337_MODE=\"Advanced\" # @param [\"Lite\", \"Advanced\", \"Rider\", \"Elite\"]\n",
        "EA31337_VERSION=v3.000-rc1 # @param [\"v3.000-rc1\"]\n",
        "TEST_DATE_FROM=\"2022-01-01\" # @param {type:\"date\"}\n",
        "TEST_DATE_TO=\"2024-01-31\" # @param {type:\"date\"}\n",
        "TEST_DEPOSIT=1000 # @param {type:\"slider\", min:100, max:100000, step:100}\n",
        "TEST_LEVERAGE=\"1:500\" # @param [\"1:100\", \"1:200\", \"1:500\"]\n",
        "TEST_SYMBOL=\"EURUSD\" # @param [\"EURUSD\", \"EURGBP\"]\n",
        "export EA31337_MODE EA31337_VERSION TEST_DATE_FROM TEST_DATE_TO TEST_DEPOSIT TEST_LEVERAGE TEST_SYMBOL\n",
        "# @markdown Notes:\n",
        "# @markdown - The backtest run can take a while, depending on the selected period.\n",
        "# @markdown - Consequent runs should be much quicker.\n",
        "# @markdown - Once execution is successful, please execute the next section to display the results.\n",
        "# Run test.\n",
        "cat <<EOF | ANSIBLE_STDOUT_CALLBACK=yaml ansible-playbook -i \"$(hostname),\" -c local /dev/stdin && echo The backtest has been completed!\n",
        "---\n",
        "- hosts: localhost\n",
        "  tasks:\n",
        "    - name: Run backtest\n",
        "      ansible.builtin.import_role:\n",
        "        name: ansible-role-mt-runner\n",
        "      vars:\n",
        "        mt_runner_bt_mt5_config:\n",
        "          Common:\n",
        "            Login: '{{ \"MTAwMDI0NjY2Mjk=\" | b64decode }}'\n",
        "            Password: '{{ \"VXMhdEowR2w=\" | b64decode }}'\n",
        "            Server: MetaQuotes-Demo\n",
        "          Tester:\n",
        "            Deposit: \"{{ ansible_facts.env.TEST_DEPOSIT }}\"\n",
        "            ExecutionMode: 0\n",
        "            Expert: EA31337-{{ ansible_facts.env.EA31337_MODE }}-{{ ansible_facts.env.EA31337_VERSION }}.ex5\n",
        "            FromDate: \"{{ ansible_facts.env.TEST_DATE_FROM }}\"\n",
        "            Leverage: \"{{ ansible_facts.env.TEST_LEVERAGE }}\"\n",
        "            Login: 12345\n",
        "            Model: 1\n",
        "            Period: M1\n",
        "            Report: report.html\n",
        "            ReplaceReport: 1\n",
        "            ShutdownTerminal: 1\n",
        "            Symbol: \"{{ ansible_facts.env.TEST_SYMBOL }}\"\n",
        "            ToDate: \"{{ ansible_facts.env.TEST_DATE_TO }}\"\n",
        "        mt_runner_get_url_list:\n",
        "        - dest: \"{{ mt_runner_mt_path }}/MQL5/Experts\"\n",
        "          url: https://github.com/EA31337/EA31337/releases/download/{{ ansible_facts.env.EA31337_VERSION }}/EA31337-{{ ansible_facts.env.EA31337_MODE }}-{{ ansible_facts.env.EA31337_VERSION }}.ex5\n",
        "EOF"
      ],
      "metadata": {
        "id": "DfGjpY7asgC8"
      },
      "execution_count": null,
      "outputs": []
    },
    {
      "cell_type": "code",
      "source": [
        "# @title 3. Display backtest results\n",
        "# @markdown ⬅ Hit the play button to display or refresh the backtest results. { display-mode: \"form\" }\n",
        "import glob, os\n",
        "from IPython.display import HTML, Image, display\n",
        "os.chdir(glob.glob('/root/.wine/drive_c/Program Files/MetaTrader*')[0])\n",
        "for file in os.listdir('.'):\n",
        "    if file.endswith('.png'):\n",
        "      display(Image(filename=file))\n",
        "HTML(data=open(\"report.html\", mode='r', encoding='utf-16').read())"
      ],
      "metadata": {
        "id": "iF4kda5GlCQ_",
        "cellView": "form"
      },
      "execution_count": null,
      "outputs": []
    },
    {
      "cell_type": "code",
      "source": [],
      "metadata": {
        "id": "bNp6cAp80I9m"
      },
      "execution_count": null,
      "outputs": []
    }
  ]
}